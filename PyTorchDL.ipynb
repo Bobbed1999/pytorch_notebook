{
  "nbformat": 4,
  "nbformat_minor": 0,
  "metadata": {
    "colab": {
      "provenance": [],
      "authorship_tag": "ABX9TyPH14ZIXwpIdmASQRrpc3ai",
      "include_colab_link": true
    },
    "kernelspec": {
      "name": "python3",
      "display_name": "Python 3"
    },
    "language_info": {
      "name": "python"
    }
  },
  "cells": [
    {
      "cell_type": "markdown",
      "metadata": {
        "id": "view-in-github",
        "colab_type": "text"
      },
      "source": [
        "<a href=\"https://colab.research.google.com/github/Bobbed1999/pytorch_notebook/blob/main/PyTorchDL.ipynb\" target=\"_parent\"><img src=\"https://colab.research.google.com/assets/colab-badge.svg\" alt=\"Open In Colab\"/></a>"
      ]
    },
    {
      "cell_type": "code",
      "source": [
        "import torch\n"
      ],
      "metadata": {
        "id": "27rSwLesp0jR"
      },
      "execution_count": 2,
      "outputs": []
    },
    {
      "cell_type": "code",
      "source": [
        "import torch"
      ],
      "metadata": {
        "id": "HzyoPFlnLkgf"
      },
      "execution_count": 1,
      "outputs": []
    },
    {
      "cell_type": "code",
      "execution_count": 3,
      "metadata": {
        "colab": {
          "base_uri": "https://localhost:8080/"
        },
        "id": "LYrECv1WpiYG",
        "outputId": "e803b3d5-5ed0-4e12-c2f1-1cf126034ef9"
      },
      "outputs": [
        {
          "output_type": "execute_result",
          "data": {
            "text/plain": [
              "False"
            ]
          },
          "metadata": {},
          "execution_count": 3
        }
      ],
      "source": [
        "torch.cuda.is_available()\n"
      ]
    },
    {
      "cell_type": "code",
      "source": [
        "!nvcc --version"
      ],
      "metadata": {
        "colab": {
          "base_uri": "https://localhost:8080/"
        },
        "id": "prqVVrJJp1ys",
        "outputId": "1fe3d031-2068-4996-b918-3f553bec7886"
      },
      "execution_count": 4,
      "outputs": [
        {
          "output_type": "stream",
          "name": "stdout",
          "text": [
            "nvcc: NVIDIA (R) Cuda compiler driver\n",
            "Copyright (c) 2005-2023 NVIDIA Corporation\n",
            "Built on Tue_Aug_15_22:02:13_PDT_2023\n",
            "Cuda compilation tools, release 12.2, V12.2.140\n",
            "Build cuda_12.2.r12.2/compiler.33191640_0\n"
          ]
        }
      ]
    },
    {
      "cell_type": "code",
      "source": [
        "#dir(torch) # open and see it\n",
        "#dir(torch.AVG) # now we found this tool we wanna use it\n",
        "help(torch.AVG) # output : tell you how to use it"
      ],
      "metadata": {
        "colab": {
          "base_uri": "https://localhost:8080/"
        },
        "collapsed": true,
        "id": "vrCWwtKWqDVv",
        "outputId": "64388d45-b11b-473b-d9f7-c657364bb16c"
      },
      "execution_count": 5,
      "outputs": [
        {
          "output_type": "stream",
          "name": "stdout",
          "text": [
            "Help on AggregationType in module torch object:\n",
            "\n",
            "class AggregationType(pybind11_builtins.pybind11_object)\n",
            " |  Method resolution order:\n",
            " |      AggregationType\n",
            " |      pybind11_builtins.pybind11_object\n",
            " |      builtins.object\n",
            " |  \n",
            " |  Methods defined here:\n",
            " |  \n",
            " |  __eq__(...)\n",
            " |      __eq__(self: object, other: object) -> bool\n",
            " |  \n",
            " |  __getstate__(...)\n",
            " |      __getstate__(self: object) -> int\n",
            " |  \n",
            " |  __hash__(...)\n",
            " |      __hash__(self: object) -> int\n",
            " |  \n",
            " |  __index__(...)\n",
            " |      __index__(self: torch._C.AggregationType) -> int\n",
            " |  \n",
            " |  __init__(...)\n",
            " |      __init__(self: torch._C.AggregationType, value: int) -> None\n",
            " |  \n",
            " |  __int__(...)\n",
            " |      __int__(self: torch._C.AggregationType) -> int\n",
            " |  \n",
            " |  __ne__(...)\n",
            " |      __ne__(self: object, other: object) -> bool\n",
            " |  \n",
            " |  __repr__(...)\n",
            " |      __repr__(self: object) -> str\n",
            " |  \n",
            " |  __setstate__(...)\n",
            " |      __setstate__(self: torch._C.AggregationType, state: int) -> None\n",
            " |  \n",
            " |  __str__(...)\n",
            " |      __str__(self: object) -> str\n",
            " |  \n",
            " |  ----------------------------------------------------------------------\n",
            " |  Readonly properties defined here:\n",
            " |  \n",
            " |  __members__\n",
            " |  \n",
            " |  name\n",
            " |      name(self: object) -> str\n",
            " |  \n",
            " |  value\n",
            " |  \n",
            " |  ----------------------------------------------------------------------\n",
            " |  Data and other attributes defined here:\n",
            " |  \n",
            " |  AVG = <AggregationType.AVG: 1>\n",
            " |  \n",
            " |  SUM = <AggregationType.SUM: 0>\n",
            " |  \n",
            " |  ----------------------------------------------------------------------\n",
            " |  Static methods inherited from pybind11_builtins.pybind11_object:\n",
            " |  \n",
            " |  __new__(*args, **kwargs) from pybind11_builtins.pybind11_type\n",
            " |      Create and return a new object.  See help(type) for accurate signature.\n",
            "\n"
          ]
        }
      ]
    },
    {
      "cell_type": "code",
      "source": [],
      "metadata": {
        "id": "KcxeN03pLjJ9"
      },
      "execution_count": null,
      "outputs": []
    }
  ]
}